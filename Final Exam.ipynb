{
 "cells": [
  {
   "cell_type": "markdown",
   "id": "8f8c9c15",
   "metadata": {},
   "source": [
    "# **Jacob Shearer - Final Exam**"
   ]
  },
  {
   "cell_type": "code",
   "execution_count": 31,
   "id": "09125b19",
   "metadata": {},
   "outputs": [],
   "source": [
    "import numpy as np\n",
    "import scipy as sp\n",
    "from scipy.stats import qmc\n",
    "import matplotlib.pyplot as plt\n",
    "from matplotlib.cm import ScalarMappable\n",
    "import random"
   ]
  },
  {
   "cell_type": "markdown",
   "id": "f4456822",
   "metadata": {},
   "source": [
    "**Question 1:**"
   ]
  },
  {
   "cell_type": "markdown",
   "id": "83f036c1",
   "metadata": {},
   "source": [
    "I'm going to use 2D quasi-monte carlo integration for this problem. Error for quasi-monte carlo integration over $D$ dimensions scales like so:\n",
    "</br>\n",
    "</br>\n",
    "$$ \\sigma_{qmc} = \\frac{1}{N}$$\n",
    "</br>\n",
    "where $N$ is the total number of points used in the integration. Therefore, to achieve six significant figures of predicted accuracy (an error of $1\\cdot10^{-7}$ to be safe), we would need:\n",
    "</br>\n",
    "</br>\n",
    "$$N = \\frac{1}{\\sigma_{qmc}} = \\frac{1}{1 \\cdot10^{-7}} = 1\\cdot 10^{7}$$"
   ]
  },
  {
   "cell_type": "code",
   "execution_count": 55,
   "id": "6b3712a7",
   "metadata": {},
   "outputs": [],
   "source": [
    "def truncator(array, places):\n",
    "    new_array = np.zeros(len(array))\n",
    "    for i in range(len(array)):\n",
    "        new_array[i] = float(f'%.{places}f' % array[i])\n",
    "    \n",
    "    return new_array\n",
    "\n",
    "def integrand(x, y):\n",
    "    # the constants out front become one when rho = 4 pi eps_0\n",
    "    denom = np.sqrt((x - xp)**2 + (y - yp)**2)\n",
    "    return 1/denom"
   ]
  },
  {
   "cell_type": "code",
   "execution_count": 50,
   "id": "d77dc64d",
   "metadata": {},
   "outputs": [],
   "source": [
    "def integration_qMC_2d(integrand, a1, b1, a2, b2, N):\n",
    "    int_sum = 0\n",
    "    halton_sampler = qmc.Halton(d=2, scramble=True)\n",
    "    x_halton = halton_sampler.random(N)\n",
    "    for i in range(N):\n",
    "        x = x_halton[i,0]*(b1-a1) + a1\n",
    "        y = x_halton[i,1]*(b2-a2) + a2\n",
    "        int_sum += integrand(x, y)\n",
    "    result = (b2 - a2) * (b1 - a1) * int_sum/N\n",
    "    return result"
   ]
  },
  {
   "cell_type": "code",
   "execution_count": 51,
   "id": "30b4ec45",
   "metadata": {},
   "outputs": [],
   "source": [
    "N = int(1e7)\n",
    "\n",
    "x_p = np.array([2, 4, 6, 8, 10])\n",
    "y_p = np.array([2, 4, 6, 8, 10])\n",
    "phi = np.zeros((5, 5))\n",
    "for i in range(len(x_p)):\n",
    "    xp = x_p[i]\n",
    "    for j in range(len(y_p)):\n",
    "        yp = y_p[j]\n",
    "        integrals = integration_qMC_2d(integrand, -1, 1, -1, 1, N)\n",
    "        phi[i, j] = integrals"
   ]
  },
  {
   "cell_type": "code",
   "execution_count": 61,
   "id": "b5a6241c",
   "metadata": {},
   "outputs": [
    {
     "name": "stdout",
     "output_type": "stream",
     "text": [
      "Phi(x_p, y_p):\n",
      "x_p=10  0.39286  0.371927 0.343421 0.312668 0.28308  \n",
      "x_p=8   0.486261 0.448154 0.400675 0.354019 0.312668 \n",
      "x_p=6   0.63511  0.556518 0.472517 0.400675 0.343421 \n",
      "x_p=4   0.902178 0.710954 0.556518 0.448154 0.371927 \n",
      "x_p=2   1.449395 0.902178 0.63511  0.486261 0.39286  \n",
      "        y_p=2    y_p=4    y_p=6    y_p=8    y_p=10\n",
      "\n",
      "\n"
     ]
    },
    {
     "data": {
      "image/png": "[encoded data removed]",
      "text/plain": [
       "<Figure size 504x432 with 2 Axes>"
      ]
     },
     "metadata": {
      "needs_background": "light"
     },
     "output_type": "display_data"
    }
   ],
   "source": [
    "phi_reversed = phi[::-1]\n",
    "print('Phi(x_p, y_p):')\n",
    "print(f'x_p=10 {truncator(phi_reversed[0], 6)}'.replace('[', ' ').replace(']', ' '))\n",
    "print(f'x_p=8  {truncator(phi_reversed[1], 6)}'.replace('[', ' ').replace(']', ' '))\n",
    "print(f'x_p=6  {truncator(phi_reversed[2], 6)}'.replace('[', ' ').replace(']', ' '))\n",
    "print(f'x_p=4  {truncator(phi_reversed[3], 6)}'.replace('[', ' ').replace(']', ' '))\n",
    "print(f'x_p=2  {truncator(phi_reversed[4], 6)}'.replace('[', ' ').replace(']', ' '))\n",
    "print('        y_p=2    y_p=4    y_p=6    y_p=8    y_p=10')\n",
    "print('\\n')\n",
    "\n",
    "fig, ax = plt.subplots(figsize=(7, 6))\n",
    "qcs = ax.contourf(x_p, y_p, phi, levels=np.arange(0, 1.6, 0.1))\n",
    "ax.set_xlabel('x_p')\n",
    "ax.set_ylabel('y_p')\n",
    "ax.set_title('Potential Away from Square')\n",
    "fig.colorbar(ScalarMappable(norm=qcs.norm, cmap=qcs.cmap))\n",
    "plt.show()"
   ]
  },
  {
   "cell_type": "markdown",
   "id": "c179c776",
   "metadata": {},
   "source": [
    "**Question 2:**"
   ]
  },
  {
   "cell_type": "code",
   "execution_count": null,
   "id": "7832d5aa",
   "metadata": {},
   "outputs": [],
   "source": []
  }
 ],
 "metadata": {
  "kernelspec": {
   "display_name": "Python 3 (ipykernel)",
   "language": "python",
   "name": "python3"
  },
  "language_info": {
   "codemirror_mode": {
    "name": "ipython",
    "version": 3
   },
   "file_extension": ".py",
   "mimetype": "text/x-python",
   "name": "python",
   "nbconvert_exporter": "python",
   "pygments_lexer": "ipython3",
   "version": "3.9.7"
  }
 },
 "nbformat": 4,
 "nbformat_minor": 5
}
