{
 "cells": [
  {
   "cell_type": "markdown",
   "id": "10558e5d",
   "metadata": {},
   "source": [
    "# **Jacob Shearer - Excercise Set 2**"
   ]
  },
  {
   "cell_type": "code",
   "execution_count": 33,
   "id": "792ae963",
   "metadata": {},
   "outputs": [],
   "source": [
    "import numpy as np\n",
    "import scipy as sp\n",
    "import cProfile\n",
    "import scipy.optimize\n",
    "import matplotlib.pyplot as plt"
   ]
  },
  {
   "cell_type": "markdown",
   "id": "5a986f2e",
   "metadata": {},
   "source": [
    "**Question  1:**"
   ]
  },
  {
   "cell_type": "code",
   "execution_count": 2,
   "id": "f0578834",
   "metadata": {},
   "outputs": [],
   "source": [
    "# Part (a):\n",
    "def o2_forward_diff(x, h):\n",
    "    analytic_original = x * np.e**x\n",
    "    analytic_2nd_derivative = (x + 2) * np.e**x\n",
    "    \n",
    "    approx_2nd_derivative = (((x + 2*h) * np.e**(x + 2*h)) - 2*((x + h) * np.e**(x + h)) + (x * np.e**x))/h**2\n",
    "    \n",
    "    error = np.abs(analytic_2nd_derivative - approx_2nd_derivative)\n",
    "    return approx_2nd_derivative, error\n",
    "\n",
    "def o2_central_diff(x, h):\n",
    "    analytic_original = x * np.e**x\n",
    "    analytic_2nd_derivative = (x + 2) * np.e**x\n",
    "    \n",
    "    approx_2nd_derivative = (((x + h) * np.e**(x + h)) + ((x - h) * np.e**(x - h)) - (2*(x * np.e**x)))/h**2\n",
    "    \n",
    "    error = np.abs(analytic_2nd_derivative - approx_2nd_derivative)\n",
    "    return approx_2nd_derivative, error"
   ]
  },
  {
   "cell_type": "code",
   "execution_count": 3,
   "id": "30277fd0",
   "metadata": {},
   "outputs": [
    {
     "name": "stdout",
     "output_type": "stream",
     "text": [
      "Part (a):\n",
      "\n",
      "\n",
      "For the forward difference algorithm:\n",
      "     h = 0.5: 2nd derivative = 56.48901265562777\n",
      "     h = 0.45: 2nd derivative = 52.840665901489125\n",
      "     h = 0.4: 2nd derivative = 49.449228311583404\n",
      "     h = 0.35: 2nd derivative = 46.295593051415196\n",
      "     h = 0.3: 2nd derivative = 43.36213107464438\n",
      "     h = 0.25: 2nd derivative = 40.63257337610585\n",
      "     h = 0.2: 2nd derivative = 38.09190284727485\n",
      "     h = 0.15: 2nd derivative = 35.726254936453714\n",
      "     h = 0.1: 2nd derivative = 33.52282638322403\n",
      "     h = 0.05: 2nd derivative = 31.46979135824423\n",
      "\n",
      "\n",
      "For the central difference algorithm:\n",
      "     h = 0.5: 2nd derivative = 30.490176446172697\n",
      "     h = 0.45: 2nd derivative = 30.311130120446194\n",
      "     h = 0.4: 2nd derivative = 30.151567480308888\n",
      "     h = 0.35: 2nd derivative = 30.01127487537918\n",
      "     h = 0.3: 2nd derivative = 29.89006462541654\n",
      "     h = 0.25: 2nd derivative = 29.78777470550574\n",
      "     h = 0.2: 2nd derivative = 29.70426847439435\n",
      "     h = 0.15: 2nd derivative = 29.63943444547823\n",
      "     h = 0.1: 2nd derivative = 29.593186100007422\n",
      "     h = 0.05: 2nd derivative = 29.56546174215901\n"
     ]
    }
   ],
   "source": [
    "print('Part (a):')\n",
    "print('\\n')\n",
    "\n",
    "x = 2.0\n",
    "h_values = [0.5, 0.45, 0.4, 0.35, 0.3, 0.25, 0.2, 0.15, 0.1, 0.05]\n",
    "forward_diff_errors = np.array([])\n",
    "central_diff_errors = np.array([])\n",
    "\n",
    "print('For the forward difference algorithm:')\n",
    "for h in h_values:\n",
    "    derivative, error = o2_forward_diff(x, h)\n",
    "    print(f'     h = {h}: 2nd derivative = {derivative}')\n",
    "    forward_diff_errors = np.append(forward_diff_errors, error)\n",
    "\n",
    "print('\\n')\n",
    "\n",
    "print('For the central difference algorithm:')\n",
    "for h in h_values:\n",
    "    derivative, error = o2_central_diff(x, h)\n",
    "    print(f'     h = {h}: 2nd derivative = {derivative}')\n",
    "    central_diff_errors = np.append(central_diff_errors, error)"
   ]
  },
  {
   "cell_type": "code",
   "execution_count": 4,
   "id": "aebb80f9",
   "metadata": {},
   "outputs": [
    {
     "name": "stdout",
     "output_type": "stream",
     "text": [
      "Part (b):\n"
     ]
    },
    {
     "data": {
      "image/png": "[encoded data removed]",
      "text/plain": [
       "<Figure size 432x288 with 1 Axes>"
      ]
     },
     "metadata": {
      "needs_background": "light"
     },
     "output_type": "display_data"
    },
    {
     "name": "stdout",
     "output_type": "stream",
     "text": [
      "Slope of the plot from fit: 1.1484436672600484\n",
      "This slope indicates that the forward difference error is proportional to h to the power of one, as expected.\n"
     ]
    },
    {
     "data": {
      "image/png": "[encoded data removed]",
      "text/plain": [
       "<Figure size 432x288 with 1 Axes>"
      ]
     },
     "metadata": {
      "needs_background": "light"
     },
     "output_type": "display_data"
    },
    {
     "name": "stdout",
     "output_type": "stream",
     "text": [
      "Slope of the plot from fit: 2.004474194878627\n",
      "This slope indicates that the central difference error is proportional to h to the power of two, as expected.\n"
     ]
    }
   ],
   "source": [
    "# Part (b)\n",
    "print('Part (b):')\n",
    "\n",
    "fit_function = lambda x, a, b: a*x + b\n",
    "\n",
    "# Forward difference plot\n",
    "plt.plot(np.log(h_values), np.log(forward_diff_errors))\n",
    "plt.title('Forward difference log(error) vs. log(h)')\n",
    "plt.xlabel('log(h)')\n",
    "plt.ylabel('log(error)')\n",
    "plt.show()\n",
    "\n",
    "fd_params, fd_pcov = sp.optimize.curve_fit(fit_function, np.log(h_values), np.log(forward_diff_errors))\n",
    "print(f'Slope of the plot from fit: {fd_params[0]}')\n",
    "print('This slope indicates that the forward difference error is proportional to h to the power of one, as expected.')\n",
    "\n",
    "# Central difference plot\n",
    "plt.plot(np.log(h_values), np.log(central_diff_errors))\n",
    "plt.title('Central difference log(error) vs. log(h)')\n",
    "plt.xlabel('log(h)')\n",
    "plt.ylabel('log(error)')\n",
    "plt.show()\n",
    "\n",
    "cd_params, cd_pcov = sp.optimize.curve_fit(fit_function, np.log(h_values), np.log(central_diff_errors))\n",
    "print(f'Slope of the plot from fit: {cd_params[0]}')\n",
    "print('This slope indicates that the central difference error is proportional to h to the power of two, as expected.')"
   ]
  },
  {
   "cell_type": "markdown",
   "id": "069b1f12",
   "metadata": {},
   "source": [
    "This works because the error of each derivative, $\\epsilon$, is related to the step size, $h$, by a power law, or:\n",
    "    $$ \\epsilon = kh^n$$\n",
    "<br/>\n",
    "Where $k$ is an arbitrary constant and $n$ is the power law exponent that relates $\\epsilon$ and $h$. When we calculate the slopes of these plots, we are essentially just computing the following expression:\n",
    "    $$ slope = \\frac{log(\\epsilon_2) - log(\\epsilon_1)}{log(h_2) - log(h_1)} = \\frac{log(kh_2^n) - log(kh_1^n)}{log(h_2) - log(h_1)}$$\n",
    "<br/>\n",
    "Logarithms have the following properties:\n",
    "    $$ log(x^n) = n \\cdot log(x) $$\n",
    "<br/>\n",
    "    $$ log(a) - log(b) = log(\\frac{a}{b})$$\n",
    "<br/>\n",
    "Applying these properties to the expression, \n",
    "    $$ slope = \\frac{n(log(kh_2) - log(kh_1))}{log(h_2) - log(h_1)}$$\n",
    "<br/>\n",
    "    $$ = \\frac{nlog(\\frac{h_2}{h_1})}{log(\\frac{h_2}{h_1})} $$\n",
    "<br/>\n",
    "    $$ = n$$\n",
    "<br/>\n",
    "Therefore, the slope of a log-log plot is just equal to the power law exponent. "
   ]
  },
  {
   "cell_type": "markdown",
   "id": "5f166d21",
   "metadata": {},
   "source": [
    "**Question 2:**"
   ]
  },
  {
   "cell_type": "code",
   "execution_count": 5,
   "id": "0bafe17b",
   "metadata": {},
   "outputs": [],
   "source": [
    "# Part (a):\n",
    "def pmt_signal(time, stepsize, amplitude):\n",
    "    times = np.arange(1, time, stepsize)\n",
    "    # times = np.arange(1, time + stepsize, stepsize) for times[-1] = time, but this is an odd number of points\n",
    "    function = lambda A, t: A * np.e**((-1/2) * (np.log(t/7)/0.45)**2)\n",
    "    signal = function(amplitude, times)\n",
    "    return times, signal"
   ]
  },
  {
   "cell_type": "code",
   "execution_count": 6,
   "id": "b4c915d1",
   "metadata": {},
   "outputs": [
    {
     "name": "stdout",
     "output_type": "stream",
     "text": [
      "Part (a):\n"
     ]
    },
    {
     "data": {
      "image/png": "[encoded data removed]",
      "text/plain": [
       "<Figure size 432x288 with 1 Axes>"
      ]
     },
     "metadata": {
      "needs_background": "light"
     },
     "output_type": "display_data"
    }
   ],
   "source": [
    "print('Part (a):')\n",
    "times, signal = pmt_signal(30, 0.1, 5)\n",
    "plt.plot(times, signal)\n",
    "plt.title('PMT Signal Strength as a Function of Time')\n",
    "plt.xlabel('Time (ns)')\n",
    "plt.ylabel('Signal Strength (PE)')\n",
    "plt.show()"
   ]
  },
  {
   "cell_type": "code",
   "execution_count": 7,
   "id": "92a902fd",
   "metadata": {},
   "outputs": [],
   "source": [
    "# Part (b):\n",
    "def trap_integration(x, y):\n",
    "    assert len(x) == len(y), 'x and y arrays are not the same shape.'\n",
    "    h = (x[-1] - x[0])/(len(x) - 1)\n",
    "    sum = 0.0\n",
    "    for i in range(len(x)):\n",
    "        weight = h/2 if x[i] == x[0] or x[i] == x[-1] else h\n",
    "        sum += y[i] * weight\n",
    "    \n",
    "    return sum"
   ]
  },
  {
   "cell_type": "code",
   "execution_count": 8,
   "id": "e732d85a",
   "metadata": {},
   "outputs": [
    {
     "name": "stdout",
     "output_type": "stream",
     "text": [
      "Part (b):\n",
      "The result of my trapezoidal integration algorithm is 43.566001566827104\n",
      "The result of numpy's trapezoidal integration algorithm is 43.56600156682708\n",
      "The difference between these results is only 2.1316282072803006e-14, so they're pretty close.\n"
     ]
    }
   ],
   "source": [
    "print('Part (b):')\n",
    "my_integration = trap_integration(times, signal)\n",
    "print(f'The result of my trapezoidal integration algorithm is {my_integration}')\n",
    "\n",
    "numpy_integration = np.trapz(signal, times)\n",
    "print(f\"The result of numpy's trapezoidal integration algorithm is {numpy_integration}\")\n",
    "\n",
    "print(f\"The difference between these results is only {np.abs(my_integration-numpy_integration)}, so they're pretty close.\")"
   ]
  },
  {
   "cell_type": "code",
   "execution_count": 9,
   "id": "0f4698c7",
   "metadata": {},
   "outputs": [],
   "source": [
    "# Part (c):\n",
    "def simp_integration(x, y):\n",
    "    assert len(x) == len(y), 'x and y arrays are not the same shape'\n",
    "    if len(x) % 2 == 0:\n",
    "        raise Exception(\"The number of points (lengths of x and y) must be odd!\")\n",
    "    \n",
    "    h = (x[-1] - x[0])/(len(x) - 1)\n",
    "    sum = 0.0\n",
    "    for i in range(len(x)):\n",
    "        if x[i] == x[0] or x[i] == x[-1]:\n",
    "            weight = h/3\n",
    "        elif i % 2 == 0:\n",
    "            weight = (2*h)/3\n",
    "        else:\n",
    "            weight = (4*h)/3\n",
    "            \n",
    "        sum += y[i] * weight\n",
    "        \n",
    "    return sum"
   ]
  },
  {
   "cell_type": "code",
   "execution_count": 10,
   "id": "be52387c",
   "metadata": {},
   "outputs": [
    {
     "name": "stdout",
     "output_type": "stream",
     "text": [
      "Part (c):\n",
      "The number of points (lengths of x and y) must be odd!\n",
      "The result of my simpson integration algorithm is 43.56323355835881\n",
      "This only differs from my trapezoidal algorithm result by 0.0027680084682941697, \n",
      "so they're fairly similar.\n"
     ]
    }
   ],
   "source": [
    "print('Part (c):')\n",
    "try:\n",
    "    integration = simp_integration(times, signal)\n",
    "except Exception as ex:\n",
    "    print(ex)\n",
    "\n",
    "integration = simp_integration(times[0:-1], signal[0:-1])\n",
    "print(f'The result of my simpson integration algorithm is {integration}')\n",
    "print(f\"\"\"This only differs from my trapezoidal algorithm result by {np.abs(integration-my_integration)}, \n",
    "so they're fairly similar.\"\"\")"
   ]
  },
  {
   "cell_type": "code",
   "execution_count": 28,
   "id": "073284bd",
   "metadata": {},
   "outputs": [
    {
     "name": "stdout",
     "output_type": "stream",
     "text": [
      "Part (d):\n",
      "         50045 function calls in 1.559 seconds\n",
      "\n",
      "   Ordered by: standard name\n",
      "\n",
      "   ncalls  tottime  percall  cumtime  percall filename:lineno(function)\n",
      "        1    0.003    0.003    1.558    1.558 1375165435.py:5(<module>)\n",
      "        1    0.000    0.000    0.000    0.000 1375165435.py:7(<module>)\n",
      "    10000    1.552    0.000    1.555    0.000 540421920.py:2(trap_integration)\n",
      "        2    0.000    0.000    0.000    0.000 codeop.py:142(__call__)\n",
      "        4    0.000    0.000    0.000    0.000 compilerop.py:166(extra_flags)\n",
      "        2    0.000    0.000    0.000    0.000 contextlib.py:114(__enter__)\n",
      "        2    0.000    0.000    0.000    0.000 contextlib.py:123(__exit__)\n",
      "        2    0.000    0.000    0.000    0.000 contextlib.py:261(helper)\n",
      "        2    0.000    0.000    0.000    0.000 contextlib.py:86(__init__)\n",
      "        2    0.000    0.000    0.000    0.000 hooks.py:103(__call__)\n",
      "        2    0.000    0.000    0.000    0.000 hooks.py:168(pre_run_code_hook)\n",
      "        2    0.000    0.000    0.000    0.000 interactiveshell.py:1278(user_global_ns)\n",
      "        2    0.000    0.000    0.000    0.000 interactiveshell.py:3341(compare)\n",
      "        2    0.000    0.000    1.559    0.779 interactiveshell.py:3403(run_code)\n",
      "        2    0.000    0.000    0.000    0.000 ipstruct.py:125(__getattr__)\n",
      "        2    0.000    0.000    0.000    0.000 traitlets.py:535(get)\n",
      "        2    0.000    0.000    0.000    0.000 traitlets.py:566(__get__)\n",
      "        2    0.000    0.000    0.000    0.000 {built-in method builtins.compile}\n",
      "        2    0.000    0.000    1.558    0.779 {built-in method builtins.exec}\n",
      "        4    0.000    0.000    0.000    0.000 {built-in method builtins.getattr}\n",
      "    40000    0.003    0.000    0.003    0.000 {built-in method builtins.len}\n",
      "        4    0.000    0.000    0.000    0.000 {built-in method builtins.next}\n",
      "        1    0.000    0.000    0.000    0.000 {method 'disable' of '_lsprof.Profiler' objects}\n",
      "\n",
      "\n",
      "According to this measurement, it takes about 1.5 seconds to integrate 10,000 signals with the \n",
      "trapezoidal algorithm.\n"
     ]
    }
   ],
   "source": [
    "# Part (d):\n",
    "print('Part (d):')\n",
    "cp = cProfile.Profile()\n",
    "cp.enable()\n",
    "for i in range(10000):\n",
    "    test_integration = trap_integration(times, signal)\n",
    "cp.disable()\n",
    "cp.print_stats()\n",
    "\n",
    "print (f'''According to this measurement, it takes about 1.5 seconds to integrate 10,000 signals with the \n",
    "trapezoidal algorithm.''')"
   ]
  },
  {
   "cell_type": "markdown",
   "id": "4faa5d3b",
   "metadata": {},
   "source": [
    "**Question 3:**"
   ]
  },
  {
   "cell_type": "markdown",
   "id": "b9341512",
   "metadata": {},
   "source": [
    "   $$ \\int_{0}^{\\pi/2}\\frac{d\\theta}{1 + \\cos(\\theta)} = 1 $$ "
   ]
  },
  {
   "cell_type": "code",
   "execution_count": 29,
   "id": "bb4b532f",
   "metadata": {},
   "outputs": [],
   "source": [
    "def romberg_integration(a, b, function, estimation_num, correct=None, print_estimates=False):\n",
    "    m = 5\n",
    "    k = 1\n",
    "    integration = 0\n",
    "    x = np.linspace(a, b, num=(2**(m)))\n",
    "    first_term = trap_integration(x, function(x))\n",
    "    second_term = 0\n",
    "    for i in range(estimation_num):\n",
    "        x = np.linspace(a, b, num=(2**(m + k)))\n",
    "        y = function(x)\n",
    "        second_term = trap_integration(x, y)\n",
    "        integration = ((4**k) * second_term - first_term)/(4**k - 1)\n",
    "        default_string = f'Estimation {i + 1}: {integration}.'\n",
    "        string = default_string + f' Relative error: {correct - integration}' if correct is not None else default_string\n",
    "        if print_estimates:\n",
    "            print(string)\n",
    "        \n",
    "        first_term = integration\n",
    "        k += 1\n",
    "        \n",
    "    return integration"
   ]
  },
  {
   "cell_type": "code",
   "execution_count": 30,
   "id": "bbaf4a83",
   "metadata": {
    "scrolled": true
   },
   "outputs": [
    {
     "name": "stdout",
     "output_type": "stream",
     "text": [
      "Estimation 1: 0.9999977654998351. Relative error: 2.2345001648993446e-06\n",
      "Estimation 2: 1.000013746942148. Relative error: -1.3746942147951913e-05\n",
      "Estimation 3: 1.0000029940953141. Relative error: -2.994095314123868e-06\n",
      "Estimation 4: 1.0000007787844363. Relative error: -7.787844362727725e-07\n",
      "Estimation 5: 1.0000001959057172. Relative error: -1.9590571720407013e-07\n",
      "Estimation 6: 1.0000000490349057. Relative error: -4.903490569141411e-08\n",
      "Estimation 7: 1.0000000122594532. Relative error: -1.2259453230356598e-08\n",
      "Estimation 8: 1.0000000030645353. Relative error: -3.064535292196524e-09\n",
      "\n",
      "\n",
      "The final result of the Romberg integration algorithm is 1.00000000.\n"
     ]
    }
   ],
   "source": [
    "function = lambda t: 1/(1 + np.cos(t))\n",
    "rom_integration = romberg_integration(0, np.pi/2, function, 8, correct=1, print_estimates=True)\n",
    "print('\\n')\n",
    "print(f'The final result of the Romberg integration algorithm is {\"%.8f\" % rom_integration}.')"
   ]
  },
  {
   "cell_type": "markdown",
   "id": "376e5e12",
   "metadata": {},
   "source": [
    "**Question 4:**"
   ]
  },
  {
   "cell_type": "code",
   "execution_count": 31,
   "id": "42d6a80b",
   "metadata": {},
   "outputs": [
    {
     "name": "stdout",
     "output_type": "stream",
     "text": [
      "Part (a):\n",
      "v values: \n",
      "[ 0.   0.1  0.2  0.3  0.4  0.5  0.6  0.7  0.8  0.9  1.   1.1  1.2  1.3\n",
      "  1.4  1.5  1.6  1.7  1.8  1.9  2.   2.1  2.2  2.3  2.4  2.5  2.6  2.7\n",
      "  2.8  2.9  3.   3.1  3.2  3.3  3.4  3.5  3.6  3.7  3.8  3.9  4.   4.1\n",
      "  4.2  4.3  4.4  4.5  4.6  4.7  4.8  4.9  5.   5.1  5.2  5.3  5.4  5.5\n",
      "  5.6  5.7  5.8  5.9  6.   6.1  6.2  6.3  6.4  6.5  6.6  6.7  6.8  6.9\n",
      "  7.   7.1  7.2  7.3  7.4  7.5  7.6  7.7  7.8  7.9  8.   8.1  8.2  8.3\n",
      "  8.4  8.5  8.6  8.7  8.8  8.9  9.   9.1  9.2  9.3  9.4  9.5  9.6  9.7\n",
      "  9.8  9.9 10.  10.1 10.2 10.3 10.4 10.5 10.6 10.7 10.8 10.9 11.  11.1\n",
      " 11.2 11.3 11.4 11.5 11.6 11.7 11.8 11.9 12.  12.1 12.2 12.3 12.4 12.5\n",
      " 12.6 12.7 12.8 12.9 13.  13.1 13.2 13.3 13.4 13.5 13.6 13.7 13.8 13.9\n",
      " 14.  14.1 14.2 14.3 14.4 14.5 14.6 14.7 14.8 14.9 15.  15.1 15.2 15.3\n",
      " 15.4 15.5 15.6 15.7 15.8 15.9 16.  16.1 16.2 16.3 16.4 16.5 16.6 16.7\n",
      " 16.8 16.9 17.  17.1 17.2 17.3 17.4 17.5 17.6 17.7 17.8 17.9 18.  18.1\n",
      " 18.2 18.3 18.4 18.5 18.6 18.7 18.8 18.9 19.  19.1 19.2 19.3 19.4 19.5\n",
      " 19.6 19.7 19.8 19.9 20. ]\n",
      "\n",
      "\n",
      "I/I_0 values: \n",
      "[0.25       0.30526045 0.37204732 0.4516791  0.544972   0.65183489\n",
      " 0.77076336 0.8982805  1.02843019 1.15250079 1.25922867 1.3357676\n",
      " 1.36965923 1.35184189 1.28034595 1.1637684  1.02304454 0.88975143\n",
      " 0.79961423 0.78140657 0.84399743 0.96706744 1.1022586  1.18913476\n",
      " 1.18332452 1.0846037  0.94634376 0.85229871 0.86543163 0.97849981\n",
      " 1.10762891 1.14865342 1.06459395 0.92961334 0.8725076  0.95194245\n",
      " 1.08416002 1.12061647 1.01721362 0.90085895 0.92210213 1.05250207\n",
      " 1.10778497 1.0061729  0.90321466 0.96279775 1.08582001 1.0608626\n",
      " 0.93274396 0.93733689 1.06484684 1.06411793 0.93763593 0.95005718\n",
      " 1.07300129 1.0337789  0.92336796 0.99954584 1.0773882  0.96637787\n",
      " 0.94789972 1.06733909 1.00874668 0.93282715 1.04733223 1.02817801\n",
      " 0.93322513 1.03936528 1.02779988 0.93673039 1.04620415 1.01033298\n",
      " 0.94697426 1.05916374 0.97709324 0.97762079 1.05535912 0.94565291\n",
      " 1.02994706 1.009127   0.96080979 1.05555909 0.95048033 1.03171239\n",
      " 0.99591575 0.98022117 1.04009274 0.95115635 1.05155525 0.95531267\n",
      " 1.03584962 0.97763508 1.01109126 1.00152387 0.98995958 1.01884656\n",
      " 0.97654381 1.02852416 0.97004057 1.03226157 0.96857903 1.03160838\n",
      " 0.97120443 1.02681906 0.97832876 1.01697732 0.99107093 1.00121997\n",
      " 1.00941395 0.98120278 1.02927387 0.96404528 1.04039992 0.96229977\n",
      " 1.03006699 0.9853195  0.99681653 1.02241463 0.96539574 1.03762758\n",
      " 0.9737743  1.00566642 1.01904962 0.96574473 1.03366636 0.9864791\n",
      " 0.98620035 1.03381464 0.97001343 1.00528546 1.02472998 0.96644508\n",
      " 1.01388642 1.01969059 0.96684504 1.01308683 1.0221109  0.96886143\n",
      " 1.00338849 1.029308   0.97749577 0.98536792 1.03118406 0.99970429\n",
      " 0.9697627  1.01215815 1.02673804 0.98182207 0.97745836 1.02127107\n",
      " 1.02140222 0.97945895 0.97804559 1.01790177 1.02533625 0.98906887\n",
      " 0.97207535 1.00069227 1.02799403 1.01340608 0.98029455 0.97512205\n",
      " 1.00283908 1.02657331 1.01829961 0.98972531 0.97320819 0.98472172\n",
      " 1.01083807 1.02639572 1.01885918 0.99643919 0.97765346 0.97558718\n",
      " 0.98992882 1.01002228 1.02361947 1.02418539 1.01299529 0.996594\n",
      " 0.98247751 0.97568211 0.97749286 0.98604503 0.99787298 1.00946689\n",
      " 1.01828827 1.02312478 1.02394261 1.02148765 1.01685145 1.01113062\n",
      " 1.00522321 0.99974988 0.99506199 0.99129633 0.98844492 0.98642043\n",
      " 0.98510816 0.98440243 0.98422925]\n"
     ]
    }
   ],
   "source": [
    "# Part (a):\n",
    "print('Part (a):')\n",
    "stepsize = 0.1\n",
    "v_values = np.arange(0, 20 + stepsize, stepsize)\n",
    "i_frac_values = np.array([])\n",
    "for v in v_values:\n",
    "    c_function = lambda w: np.cos((np.pi * w**2)/2)\n",
    "    s_function = lambda w: np.sin((np.pi * w**2)/2)\n",
    "    C_v = romberg_integration(0, v, c_function, 8)\n",
    "    S_v = romberg_integration(0, v, s_function, 8)\n",
    "    i_frac = 0.5 * ((C_v + 0.5)**2 + (S_v + 0.5)**2)\n",
    "    i_frac_values = np.append(i_frac_values, i_frac)\n",
    "\n",
    "print(f'v values: \\n{v_values}')\n",
    "print('\\n')\n",
    "print(f'I/I_0 values: \\n{i_frac_values}')"
   ]
  },
  {
   "cell_type": "code",
   "execution_count": 32,
   "id": "35435315",
   "metadata": {},
   "outputs": [
    {
     "name": "stdout",
     "output_type": "stream",
     "text": [
      "Part (b):\n"
     ]
    },
    {
     "data": {
      "image/png": "[encoded data removed]",
      "text/plain": [
       "<Figure size 432x288 with 1 Axes>"
      ]
     },
     "metadata": {
      "needs_background": "light"
     },
     "output_type": "display_data"
    }
   ],
   "source": [
    "# Part(b):\n",
    "print('Part (b):')\n",
    "plt.plot(v_values, i_frac_values)\n",
    "plt.xlabel('v')\n",
    "plt.ylabel('I/I_0')\n",
    "plt.show()"
   ]
  }
 ],
 "metadata": {
  "kernelspec": {
   "display_name": "Python 3 (ipykernel)",
   "language": "python",
   "name": "python3"
  },
  "language_info": {
   "codemirror_mode": {
    "name": "ipython",
    "version": 3
   },
   "file_extension": ".py",
   "mimetype": "text/x-python",
   "name": "python",
   "nbconvert_exporter": "python",
   "pygments_lexer": "ipython3",
   "version": "3.9.7"
  }
 },
 "nbformat": 4,
 "nbformat_minor": 5
}
