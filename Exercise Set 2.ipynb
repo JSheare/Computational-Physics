{
 "cells": [
  {
   "cell_type": "markdown",
   "id": "10558e5d",
   "metadata": {},
   "source": [
    "# **Jacob Shearer - Excercise Set 2**"
   ]
  },
  {
   "cell_type": "code",
   "execution_count": 17,
   "id": "792ae963",
   "metadata": {},
   "outputs": [],
   "source": [
    "import numpy as np\n",
    "import scipy as sp\n",
    "import cProfile\n",
    "import time\n",
    "import scipy.optimize\n",
    "import matplotlib.pyplot as plt"
   ]
  },
  {
   "cell_type": "markdown",
   "id": "5a986f2e",
   "metadata": {},
   "source": [
    "**Question  1:**"
   ]
  },
  {
   "cell_type": "code",
   "execution_count": 2,
   "id": "f0578834",
   "metadata": {},
   "outputs": [],
   "source": [
    "# Part (a):\n",
    "def o2_forward_diff(x, h):\n",
    "    analytic_original = x * np.e**x\n",
    "    analytic_2nd_derivative = (x + 2) * np.e**x\n",
    "    \n",
    "    approx_2nd_derivative = (((x + 2*h) * np.e**(x + 2*h)) - 2*((x + h) * np.e**(x + h)) + (x * np.e**x))/h**2\n",
    "    \n",
    "    error = np.abs(analytic_2nd_derivative - approx_2nd_derivative)\n",
    "    return approx_2nd_derivative, error\n",
    "\n",
    "def o2_central_diff(x, h):\n",
    "    analytic_original = x * np.e**x\n",
    "    analytic_2nd_derivative = (x + 2) * np.e**x\n",
    "    \n",
    "    approx_2nd_derivative = (((x + h) * np.e**(x + h)) + ((x - h) * np.e**(x - h)) - (2*(x * np.e**x)))/h**2\n",
    "    \n",
    "    error = np.abs(analytic_2nd_derivative - approx_2nd_derivative)\n",
    "    return approx_2nd_derivative, error"
   ]
  },
  {
   "cell_type": "code",
   "execution_count": 3,
   "id": "30277fd0",
   "metadata": {},
   "outputs": [
    {
     "name": "stdout",
     "output_type": "stream",
     "text": [
      "Part (a):\n",
      "\n",
      "\n",
      "For the forward difference algorithm:\n",
      "     h = 0.5: 2nd derivative = 56.48901265562777\n",
      "     h = 0.45: 2nd derivative = 52.840665901489125\n",
      "     h = 0.4: 2nd derivative = 49.449228311583404\n",
      "     h = 0.35: 2nd derivative = 46.295593051415196\n",
      "     h = 0.3: 2nd derivative = 43.36213107464438\n",
      "     h = 0.25: 2nd derivative = 40.63257337610585\n",
      "     h = 0.2: 2nd derivative = 38.09190284727485\n",
      "     h = 0.15: 2nd derivative = 35.726254936453714\n",
      "     h = 0.1: 2nd derivative = 33.52282638322403\n",
      "     h = 0.05: 2nd derivative = 31.46979135824423\n",
      "\n",
      "\n",
      "For the central difference algorithm:\n",
      "     h = 0.5: 2nd derivative = 30.490176446172697\n",
      "     h = 0.45: 2nd derivative = 30.311130120446194\n",
      "     h = 0.4: 2nd derivative = 30.151567480308888\n",
      "     h = 0.35: 2nd derivative = 30.01127487537918\n",
      "     h = 0.3: 2nd derivative = 29.89006462541654\n",
      "     h = 0.25: 2nd derivative = 29.78777470550574\n",
      "     h = 0.2: 2nd derivative = 29.70426847439435\n",
      "     h = 0.15: 2nd derivative = 29.63943444547823\n",
      "     h = 0.1: 2nd derivative = 29.593186100007422\n",
      "     h = 0.05: 2nd derivative = 29.56546174215901\n"
     ]
    }
   ],
   "source": [
    "print('Part (a):')\n",
    "print('\\n')\n",
    "\n",
    "x = 2.0\n",
    "h_values = [0.5, 0.45, 0.4, 0.35, 0.3, 0.25, 0.2, 0.15, 0.1, 0.05]\n",
    "forward_diff_errors = np.array([])\n",
    "central_diff_errors = np.array([])\n",
    "\n",
    "print('For the forward difference algorithm:')\n",
    "for h in h_values:\n",
    "    derivative, error = o2_forward_diff(x, h)\n",
    "    print(f'     h = {h}: 2nd derivative = {derivative}')\n",
    "    forward_diff_errors = np.append(forward_diff_errors, error)\n",
    "\n",
    "print('\\n')\n",
    "\n",
    "print('For the central difference algorithm:')\n",
    "for h in h_values:\n",
    "    derivative, error = o2_central_diff(x, h)\n",
    "    print(f'     h = {h}: 2nd derivative = {derivative}')\n",
    "    central_diff_errors = np.append(central_diff_errors, error)"
   ]
  },
  {
   "cell_type": "code",
   "execution_count": 4,
   "id": "aebb80f9",
   "metadata": {},
   "outputs": [
    {
     "name": "stdout",
     "output_type": "stream",
     "text": [
      "Part (b):\n"
     ]
    },
    {
     "data": {
      "image/png": "[encoded data removed]",
      "text/plain": [
       "<Figure size 432x288 with 1 Axes>"
      ]
     },
     "metadata": {
      "needs_background": "light"
     },
     "output_type": "display_data"
    },
    {
     "name": "stdout",
     "output_type": "stream",
     "text": [
      "Slope of the plot from fit: 1.1484436672600484\n",
      "This slope indicates that the forward difference error is proportional to h to the power of one, as expected.\n"
     ]
    },
    {
     "data": {
      "image/png": "[encoded data removed]",
      "text/plain": [
       "<Figure size 432x288 with 1 Axes>"
      ]
     },
     "metadata": {
      "needs_background": "light"
     },
     "output_type": "display_data"
    },
    {
     "name": "stdout",
     "output_type": "stream",
     "text": [
      "Slope of the plot from fit: 2.004474194878627\n",
      "This slope indicates that the central difference error is proportional to h to the power of two, as expected.\n"
     ]
    }
   ],
   "source": [
    "# Part (b)\n",
    "print('Part (b):')\n",
    "\n",
    "fit_function = lambda x, a, b: a*x + b\n",
    "\n",
    "# Forward difference plot\n",
    "plt.plot(np.log(h_values), np.log(forward_diff_errors))\n",
    "plt.title('Forward difference log(error) vs. log(h)')\n",
    "plt.xlabel('log(h)')\n",
    "plt.ylabel('log(error)')\n",
    "plt.show()\n",
    "\n",
    "fd_params, fd_pcov = sp.optimize.curve_fit(fit_function, np.log(h_values), np.log(forward_diff_errors))\n",
    "print(f'Slope of the plot from fit: {fd_params[0]}')\n",
    "print('This slope indicates that the forward difference error is proportional to h to the power of one, as expected.')\n",
    "\n",
    "# Central difference plot\n",
    "plt.plot(np.log(h_values), np.log(central_diff_errors))\n",
    "plt.title('Central difference log(error) vs. log(h)')\n",
    "plt.xlabel('log(h)')\n",
    "plt.ylabel('log(error)')\n",
    "plt.show()\n",
    "\n",
    "cd_params, cd_pcov = sp.optimize.curve_fit(fit_function, np.log(h_values), np.log(central_diff_errors))\n",
    "print(f'Slope of the plot from fit: {cd_params[0]}')\n",
    "print('This slope indicates that the central difference error is proportional to h to the power of two, as expected.')"
   ]
  },
  {
   "cell_type": "markdown",
   "id": "069b1f12",
   "metadata": {},
   "source": [
    "The error of each derivative, $\\epsilon$, is related to the step size, $h$, by a power law, or:\n",
    "    $$ \\epsilon = kh^n$$\n",
    "<br/>\n",
    "Where $k$ is an arbitrary constant and $n$ is the power law exponent that relates $\\epsilon$ and $h$. When we calculate the slopes of these plots, we are essentially just computing the following expression:\n",
    "    $$ slope = \\frac{log(\\epsilon_2) - log(\\epsilon_1)}{log(h_2) - log(h_1)} = \\frac{log(kh_2^n) - log(kh_1^n)}{log(h_2) - log(h_1)}$$\n",
    "<br/>\n",
    "Logarithms have the following properties:\n",
    "    $$ log(x^n) = n \\cdot log(x) $$\n",
    "<br/>\n",
    "    $$ log(a) - log(b) = log(a/b)$$\n",
    "<br/>\n",
    "Applying these properties to the expression, \n",
    "    $$ slope = \\frac{n(log(kh_2) - log(kh_1))}{log(h_2) - log(h_1)}$$\n",
    "<br/>\n",
    "    $$ = \\frac{nlog(\\frac{h_2}{h_1})}{log(\\frac{h_2}{h_1})} $$\n",
    "<br/>\n",
    "    $$ = n$$\n",
    "<br/>\n",
    "Therefore, the slope of a log-log plot is just equal to the power law exponent. "
   ]
  },
  {
   "cell_type": "markdown",
   "id": "5f166d21",
   "metadata": {},
   "source": [
    "**Question 2:**"
   ]
  },
  {
   "cell_type": "code",
   "execution_count": 5,
   "id": "0bafe17b",
   "metadata": {},
   "outputs": [],
   "source": [
    "# Part (a):\n",
    "def pmt_signal(time, stepsize, amplitude):\n",
    "    times = np.arange(1, time, stepsize)\n",
    "    # times = np.arange(1, time + stepsize, stepsize) for times[-1] = time, but this is an odd number of points\n",
    "    function = lambda A, t: A * np.e**((-1/2) * (np.log(t/7)/0.45)**2)\n",
    "    signal = function(amplitude, times)\n",
    "    return times, signal"
   ]
  },
  {
   "cell_type": "code",
   "execution_count": 6,
   "id": "b4c915d1",
   "metadata": {},
   "outputs": [
    {
     "name": "stdout",
     "output_type": "stream",
     "text": [
      "Part (a):\n"
     ]
    },
    {
     "data": {
      "image/png": "[encoded data removed]",
      "text/plain": [
       "<Figure size 432x288 with 1 Axes>"
      ]
     },
     "metadata": {
      "needs_background": "light"
     },
     "output_type": "display_data"
    }
   ],
   "source": [
    "print('Part (a):')\n",
    "times, signal = pmt_signal(30, 0.1, 5)\n",
    "plt.plot(times, signal)\n",
    "plt.title('PMT Signal Strength as a Function of Time')\n",
    "plt.xlabel('Time (ns)')\n",
    "plt.ylabel('Signal Strength (PE)')\n",
    "plt.show()"
   ]
  },
  {
   "cell_type": "code",
   "execution_count": 7,
   "id": "92a902fd",
   "metadata": {},
   "outputs": [],
   "source": [
    "# Part (b):\n",
    "def trap_integration(x, y):\n",
    "    assert len(x) == len(y), 'x and y arrays not the same shape.'\n",
    "    h = (x[-1] - x[0])/(len(x) - 1)\n",
    "    sum = 0.0\n",
    "    for i in range(len(x)):\n",
    "        weight = h/2 if x[i] == x[0] or x[i] == x[-1] else h\n",
    "        sum += y[i] * weight\n",
    "    \n",
    "    return sum"
   ]
  },
  {
   "cell_type": "code",
   "execution_count": 8,
   "id": "e732d85a",
   "metadata": {},
   "outputs": [
    {
     "name": "stdout",
     "output_type": "stream",
     "text": [
      "Part (b):\n",
      "The result of my trapezoidal integration algorithm is 43.566001566827104\n",
      "The result of numpy's trapezoidal integration algorithm is 43.56600156682708\n",
      "The difference between these results is only 2.1316282072803006e-14, so they're pretty close.\n"
     ]
    }
   ],
   "source": [
    "print('Part (b):')\n",
    "my_integration = trap_integration(times, signal)\n",
    "print(f'The result of my trapezoidal integration algorithm is {my_integration}')\n",
    "\n",
    "numpy_integration = np.trapz(signal, times)\n",
    "print(f\"The result of numpy's trapezoidal integration algorithm is {numpy_integration}\")\n",
    "\n",
    "print(f\"The difference between these results is only {np.abs(my_integration-numpy_integration)}, so they're pretty close.\")"
   ]
  },
  {
   "cell_type": "code",
   "execution_count": 9,
   "id": "0f4698c7",
   "metadata": {},
   "outputs": [],
   "source": [
    "# Part (c):\n",
    "def simp_integration(x, y):\n",
    "    assert len(x) == len(y), 'x and y arrays are not the same shape'\n",
    "    if len(x) % 2 == 0:\n",
    "        raise Exception(\"The number of points (lengths of x and y) must be odd!\")\n",
    "    \n",
    "    h = (x[-1] - x[0])/(len(x) - 1)\n",
    "    sum = 0.0\n",
    "    for i in range(len(x)):\n",
    "        if x[i] == x[0] or x[i] == x[-1]:\n",
    "            weight = h/3\n",
    "        elif i % 2 == 0:\n",
    "            weight = (2*h)/3\n",
    "        else:\n",
    "            weight = (4*h)/3\n",
    "            \n",
    "        sum += y[i] * weight\n",
    "        \n",
    "    return sum"
   ]
  },
  {
   "cell_type": "code",
   "execution_count": 16,
   "id": "be52387c",
   "metadata": {},
   "outputs": [
    {
     "name": "stdout",
     "output_type": "stream",
     "text": [
      "Part (c):\n",
      "The number of points (lengths of x and y) must be odd!\n",
      "The result of my simpson integration algorithm is 43.56323355835881\n",
      "This only differs from my trapezoidal algorithm result by 0.0027680084682941697, \n",
      "so they're fairly similar.\n"
     ]
    }
   ],
   "source": [
    "print('Part (c):')\n",
    "try:\n",
    "    integration = simp_integration(times, signal)\n",
    "except Exception as ex:\n",
    "    print(ex)\n",
    "\n",
    "integration = simp_integration(times[0:-1], signal[0:-1])\n",
    "print(f'The result of my simpson integration algorithm is {integration}')\n",
    "print(f\"\"\"This only differs from my trapezoidal algorithm result by {np.abs(integration-my_integration)}, \n",
    "so they're fairly similar.\"\"\")"
   ]
  },
  {
   "cell_type": "code",
   "execution_count": 91,
   "id": "073284bd",
   "metadata": {},
   "outputs": [
    {
     "name": "stdout",
     "output_type": "stream",
     "text": [
      "Part (d):\n",
      "         50045 function calls in 2.069 seconds\n",
      "\n",
      "   Ordered by: standard name\n",
      "\n",
      "   ncalls  tottime  percall  cumtime  percall filename:lineno(function)\n",
      "        1    0.005    0.005    2.069    2.069 1319122141.py:5(<module>)\n",
      "        1    0.000    0.000    0.000    0.000 1319122141.py:7(<module>)\n",
      "    10000    2.060    0.000    2.064    0.000 3201132740.py:2(trap_integration)\n",
      "        2    0.000    0.000    0.000    0.000 codeop.py:142(__call__)\n",
      "        4    0.000    0.000    0.000    0.000 compilerop.py:166(extra_flags)\n",
      "        2    0.000    0.000    0.000    0.000 contextlib.py:114(__enter__)\n",
      "        2    0.000    0.000    0.000    0.000 contextlib.py:123(__exit__)\n",
      "        2    0.000    0.000    0.000    0.000 contextlib.py:261(helper)\n",
      "        2    0.000    0.000    0.000    0.000 contextlib.py:86(__init__)\n",
      "        2    0.000    0.000    0.000    0.000 hooks.py:103(__call__)\n",
      "        2    0.000    0.000    0.000    0.000 hooks.py:168(pre_run_code_hook)\n",
      "        2    0.000    0.000    0.000    0.000 interactiveshell.py:1278(user_global_ns)\n",
      "        2    0.000    0.000    0.000    0.000 interactiveshell.py:3341(compare)\n",
      "        2    0.000    0.000    2.069    1.034 interactiveshell.py:3403(run_code)\n",
      "        2    0.000    0.000    0.000    0.000 ipstruct.py:125(__getattr__)\n",
      "        2    0.000    0.000    0.000    0.000 traitlets.py:535(get)\n",
      "        2    0.000    0.000    0.000    0.000 traitlets.py:566(__get__)\n",
      "        2    0.000    0.000    0.000    0.000 {built-in method builtins.compile}\n",
      "        2    0.000    0.000    2.069    1.034 {built-in method builtins.exec}\n",
      "        4    0.000    0.000    0.000    0.000 {built-in method builtins.getattr}\n",
      "    40000    0.004    0.000    0.004    0.000 {built-in method builtins.len}\n",
      "        4    0.000    0.000    0.000    0.000 {built-in method builtins.next}\n",
      "        1    0.000    0.000    0.000    0.000 {method 'disable' of '_lsprof.Profiler' objects}\n",
      "\n",
      "\n",
      "According to this measurement, it takes about 2 seconds to integrate 10,000 signals with the \n",
      "trapezoidal algorithm.\n"
     ]
    }
   ],
   "source": [
    "# Part (d):\n",
    "print('Part (d):')\n",
    "cp = cProfile.Profile()\n",
    "cp.enable()\n",
    "for i in range(10000):\n",
    "    test_integration = trap_integration(times, signal)\n",
    "cp.disable()\n",
    "cp.print_stats()\n",
    "\n",
    "print (f'''According to this measurement, it takes about 2 seconds to integrate 10,000 signals with the \n",
    "trapezoidal algorithm.''')\n",
    "\n",
    "# cProfile was measuring the time to run the algorithm as less than 1/1000th of a second, so it was just printing the\n",
    "# total time as 0.000 seconds.\n",
    "# To get around this I just had it measure the time to run the algorithm 10 times and then multiplied the result by 1000."
   ]
  },
  {
   "cell_type": "markdown",
   "id": "4faa5d3b",
   "metadata": {},
   "source": [
    "**Question 3:**"
   ]
  },
  {
   "cell_type": "markdown",
   "id": "b9341512",
   "metadata": {},
   "source": [
    "   $$ \\int_{0}^{\\pi/2}\\frac{d\\theta}{1 + \\cos(\\theta)} = 1 $$ "
   ]
  },
  {
   "cell_type": "code",
   "execution_count": 87,
   "id": "bb4b532f",
   "metadata": {},
   "outputs": [],
   "source": [
    "def romberg_int(a, b, function, estimation_num, correct=None):\n",
    "    integration = 0\n",
    "    first_term = 0\n",
    "    second_term = 0\n",
    "    m = 10\n",
    "    k = 1\n",
    "    for i in range(estimation_num):\n",
    "        if i == 0:\n",
    "            x = np.linspace(a, b, num=(2**(m + (k-1))))\n",
    "            y = function(x)\n",
    "            first_term = trap_integration(x, y)\n",
    "        \n",
    "        x = np.linspace(a, b, num=(2**(m + k)))\n",
    "        y = function(x)\n",
    "        second_term = trap_integration(x, y)\n",
    "        integration = ((4**k) * second_term - first_term)/(4**k - 1)\n",
    "        default_string = f'Estimation {i + 1}: {integration}.'\n",
    "        string = default_string + f' Relative error: {correct - integration}' if correct is not None else default_string\n",
    "        print(string)\n",
    "        \n",
    "        first_term = integration\n",
    "        k += 1\n",
    "        \n",
    "    return integration"
   ]
  },
  {
   "cell_type": "code",
   "execution_count": 89,
   "id": "bbaf4a83",
   "metadata": {
    "scrolled": true
   },
   "outputs": [
    {
     "name": "stdout",
     "output_type": "stream",
     "text": [
      "Estimation 1: 0.9999999999360387. Relative error: 6.396128071628482e-11\n",
      "Estimation 2: 1.0000000130834086. Relative error: -1.3083408578751232e-08\n",
      "Estimation 3: 1.0000000029056482. Relative error: -2.905648166517949e-09\n",
      "\n",
      "\n",
      "The final result of the Romberg integration algorithm is 1.00000000.\n"
     ]
    }
   ],
   "source": [
    "function = lambda t: 1/(1 + np.cos(t))\n",
    "rom_integration = romberg_int(0, np.pi/2, function, 3, correct=1)\n",
    "print('\\n')\n",
    "print(f'The final result of the Romberg integration algorithm is {\"%.8f\" % rom_integration}.')"
   ]
  },
  {
   "cell_type": "markdown",
   "id": "376e5e12",
   "metadata": {},
   "source": [
    "**Question 4:**"
   ]
  },
  {
   "cell_type": "code",
   "execution_count": null,
   "id": "42d6a80b",
   "metadata": {},
   "outputs": [],
   "source": []
  }
 ],
 "metadata": {
  "kernelspec": {
   "display_name": "Python 3 (ipykernel)",
   "language": "python",
   "name": "python3"
  },
  "language_info": {
   "codemirror_mode": {
    "name": "ipython",
    "version": 3
   },
   "file_extension": ".py",
   "mimetype": "text/x-python",
   "name": "python",
   "nbconvert_exporter": "python",
   "pygments_lexer": "ipython3",
   "version": "3.9.7"
  }
 },
 "nbformat": 4,
 "nbformat_minor": 5
}
