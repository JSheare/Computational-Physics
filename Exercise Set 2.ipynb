{
 "cells": [
  {
   "cell_type": "markdown",
   "id": "10558e5d",
   "metadata": {},
   "source": [
    "# **Jacob Shearer - Excercise set 2**"
   ]
  },
  {
   "cell_type": "code",
   "execution_count": 12,
   "id": "792ae963",
   "metadata": {},
   "outputs": [],
   "source": [
    "import numpy as np\n",
    "import scipy as sp\n",
    "import scipy.optimize\n",
    "import matplotlib.pyplot as plt"
   ]
  },
  {
   "cell_type": "markdown",
   "id": "5a986f2e",
   "metadata": {},
   "source": [
    "**Question  1:**"
   ]
  },
  {
   "cell_type": "code",
   "execution_count": 2,
   "id": "f0578834",
   "metadata": {},
   "outputs": [],
   "source": [
    "# Part (a):\n",
    "def o2_forward_diff(x, h):\n",
    "    analytic_original = x * np.e**x\n",
    "    analytic_2nd_derivative = (x + 2) * np.e**x\n",
    "    \n",
    "    approx_2nd_derivative = (((x + 2*h) * np.e**(x + 2*h)) - 2*((x + h) * np.e**(x + h)) + (x * np.e**x))/h**2\n",
    "    \n",
    "    error = np.abs(analytic_2nd_derivative - approx_2nd_derivative)\n",
    "    return approx_2nd_derivative, error\n",
    "\n",
    "def o2_central_diff(x, h):\n",
    "    analytic_original = x * np.e**x\n",
    "    analytic_2nd_derivative = (x + 2) * np.e**x\n",
    "    \n",
    "    approx_2nd_derivative = (((x + h) * np.e**(x + h)) + ((x - h) * np.e**(x - h)) - (2*(x * np.e**x)))/h**2\n",
    "    \n",
    "    error = np.abs(analytic_2nd_derivative - approx_2nd_derivative)\n",
    "    return approx_2nd_derivative, error"
   ]
  },
  {
   "cell_type": "code",
   "execution_count": 22,
   "id": "30277fd0",
   "metadata": {},
   "outputs": [
    {
     "name": "stdout",
     "output_type": "stream",
     "text": [
      "Part (a):\n",
      "\n",
      "\n",
      "For the forward difference algorithm:\n",
      "     h = 0.5: 2nd derivative = 56.48901265562777\n",
      "     h = 0.45: 2nd derivative = 52.840665901489125\n",
      "     h = 0.05: 2nd derivative = 31.46979135824423\n",
      "\n",
      "\n",
      "For the central difference algorithm:\n",
      "     h = 0.5: 2nd derivative = 30.490176446172697\n",
      "     h = 0.45: 2nd derivative = 30.311130120446194\n",
      "     h = 0.05: 2nd derivative = 29.56546174215901\n"
     ]
    }
   ],
   "source": [
    "print('Part (a):')\n",
    "print('\\n')\n",
    "\n",
    "x = 2.0\n",
    "h_values = [0.5, 0.45, 0.05]\n",
    "forward_diff_errors = np.array([])\n",
    "central_diff_errors = np.array([])\n",
    "\n",
    "print('For the forward difference algorithm:')\n",
    "for h in h_values:\n",
    "    derivative, error = o2_forward_diff(x, h)\n",
    "    print(f'     h = {h}: 2nd derivative = {derivative}')\n",
    "    forward_diff_errors = np.append(forward_diff_errors, error)\n",
    "\n",
    "print('\\n')\n",
    "\n",
    "print('For the central difference algorithm:')\n",
    "for h in h_values:\n",
    "    derivative, error = o2_central_diff(x, h)\n",
    "    print(f'     h = {h}: 2nd derivative = {derivative}')\n",
    "    central_diff_errors = np.append(central_diff_errors, error)"
   ]
  },
  {
   "cell_type": "code",
   "execution_count": 21,
   "id": "aebb80f9",
   "metadata": {},
   "outputs": [
    {
     "name": "stdout",
     "output_type": "stream",
     "text": [
      "Part (b):\n"
     ]
    },
    {
     "data": {
      "image/png": "[encoded data removed]",
      "text/plain": [
       "<Figure size 432x288 with 1 Axes>"
      ]
     },
     "metadata": {
      "needs_background": "light"
     },
     "output_type": "display_data"
    },
    {
     "name": "stdout",
     "output_type": "stream",
     "text": [
      "Slope of the plot from fit: 1.1433715579135624\n",
      "This slope indicates that the forward difference error is proportional to h to the power of one, as expected.\n"
     ]
    },
    {
     "data": {
      "image/png": "[encoded data removed]",
      "text/plain": [
       "<Figure size 432x288 with 1 Axes>"
      ]
     },
     "metadata": {
      "needs_background": "light"
     },
     "output_type": "display_data"
    },
    {
     "name": "stdout",
     "output_type": "stream",
     "text": [
      "Slope of the plot from fit: 2.004445677571337\n",
      "This slope indicates that the central difference error is proportional to h to the power of two, as expected.\n"
     ]
    }
   ],
   "source": [
    "# Part (b)\n",
    "print('Part (b):')\n",
    "\n",
    "fit_function = lambda x, a, b: a*x + b\n",
    "\n",
    "# Forward difference plot\n",
    "plt.plot(np.log(h_values), np.log(forward_diff_errors))\n",
    "plt.title('Forward difference log(error) vs log(h)')\n",
    "plt.xlabel('log(h)')\n",
    "plt.ylabel('log(error)')\n",
    "plt.show()\n",
    "\n",
    "fd_params, fd_pcov = sp.optimize.curve_fit(fit_function, np.log(h_values), np.log(forward_diff_errors))\n",
    "print(f'Slope of the plot from fit: {fd_params[0]}')\n",
    "print('This slope indicates that the forward difference error is proportional to h to the power of one, as expected.')\n",
    "\n",
    "# Central difference plot\n",
    "plt.plot(np.log(h_values), np.log(central_diff_errors))\n",
    "plt.title('Central difference log(error) vs log(h)')\n",
    "plt.xlabel('log(h)')\n",
    "plt.ylabel('log(error)')\n",
    "plt.show()\n",
    "\n",
    "cd_params, cd_pcov = sp.optimize.curve_fit(fit_function, np.log(h_values), np.log(central_diff_errors))\n",
    "print(f'Slope of the plot from fit: {cd_params[0]}')\n",
    "print('This slope indicates that the central difference error is proportional to h to the power of two, as expected.')"
   ]
  },
  {
   "cell_type": "markdown",
   "id": "069b1f12",
   "metadata": {},
   "source": [
    "The error of each derivative, $\\epsilon$, is related to the step size, $h$, by a power law, or:\n",
    "    $$ \\epsilon = kh^n$$\n",
    "<br/>\n",
    "Where $k$ is an arbitrary constant and $n$ is the power law exponent that relates $\\epsilon$ and $h$. When we calculate the slopes of these plots, we are essentially just computing the following expression:\n",
    "    $$ slope = \\frac{log(\\epsilon_2) - log(\\epsilon_1)}{log(h_2) - log(h_1)} = \\frac{log(kh_2^n) - log(kh_1^n)}{log(h_2) - log(h_1)}$$\n",
    "<br/>\n",
    "Logarithms have the following property:\n",
    "    $$ log(x^n) = n \\cdot log(x) $$\n",
    "<br/>\n",
    "Applying this property to the expression, \n",
    "    $$ slope = \\frac{n(log(kh_2) - log(kh_1))}{log(h_2) - log(h_1)}$$\n",
    "<br/>\n",
    "    $$ = \\frac{nlog(\\frac{h_2}{h_1})}{log(\\frac{h_2}{h_1})} $$\n",
    "<br/>\n",
    "    $$ = n$$\n",
    "<br/>\n",
    "Therefore, the slope of a log-log plot is just equal to the power law exponent. "
   ]
  }
 ],
 "metadata": {
  "kernelspec": {
   "display_name": "Python 3 (ipykernel)",
   "language": "python",
   "name": "python3"
  },
  "language_info": {
   "codemirror_mode": {
    "name": "ipython",
    "version": 3
   },
   "file_extension": ".py",
   "mimetype": "text/x-python",
   "name": "python",
   "nbconvert_exporter": "python",
   "pygments_lexer": "ipython3",
   "version": "3.9.7"
  }
 },
 "nbformat": 4,
 "nbformat_minor": 5
}
