{
 "cells": [
  {
   "cell_type": "markdown",
   "id": "ee964893",
   "metadata": {},
   "source": [
    "# **Jacob Shearer - Excercise set 6**"
   ]
  },
  {
   "cell_type": "code",
   "execution_count": 2,
   "id": "1caad83e",
   "metadata": {},
   "outputs": [],
   "source": [
    "import numpy as np\n",
    "import scipy as sp\n",
    "import matplotlib.pyplot as plt"
   ]
  },
  {
   "cell_type": "markdown",
   "id": "66fabd40",
   "metadata": {},
   "source": [
    "**Question 1:**"
   ]
  },
  {
   "cell_type": "code",
   "execution_count": 3,
   "id": "1c267fc0",
   "metadata": {},
   "outputs": [
    {
     "name": "stdout",
     "output_type": "stream",
     "text": [
      "1.9126748577245383e-37\n",
      "1.3370425869574915e-06\n",
      "5.510890224226373e-05\n",
      "0.0006605069904361445\n",
      "0.0027103213459093727\n",
      "0.0006199160200480525\n",
      "0.6745540246812008\n",
      "-0.6010199578588143\n",
      "1.82935676293375\n",
      "0.9382087525184463\n",
      "0.8178053586167349\n",
      "1.1218253693512965\n",
      "1.0476074806467566\n",
      "1.020889212658963\n",
      "0.9899258893153287\n",
      "0.994792351362087\n",
      "1.002627335895562\n",
      "0.9986922295643083\n",
      "0.99934341370492\n",
      "0.9996710306025927\n"
     ]
    },
    {
     "data": {
      "image/png": "[encoded data removed]",
      "text/plain": [
       "<Figure size 432x288 with 1 Axes>"
      ]
     },
     "metadata": {
      "needs_background": "light"
     },
     "output_type": "display_data"
    },
    {
     "name": "stdout",
     "output_type": "stream",
     "text": [
      "[[-1.00000000e+03 -9.93333333e+02 -9.86666667e+02 ...  0.00000000e+00\n",
      "   0.00000000e+00  0.00000000e+00]\n",
      " [-0.00000000e+00 -6.62785919e-06 -1.35410547e-05 ...  0.00000000e+00\n",
      "   0.00000000e+00  0.00000000e+00]]\n",
      "[-0.00096519 -0.00096519 -0.00096519 ... -0.00096519 -0.00096519\n",
      " -0.00096519]\n"
     ]
    }
   ],
   "source": [
    "\"\"\" From \"COMPUTATIONAL PHYSICS\", 3rd Ed, Enlarged Python eTextBook  \n",
    "    by RH Landau, MJ Paez, and CC Bordeianu\n",
    "    Copyright Wiley-VCH Verlag GmbH & Co. KGaA, Berlin;  Copyright R Landau,\n",
    "    Oregon State Unv, MJ Paez, Univ Antioquia, C Bordeianu, Univ Bucharest, 2015.\n",
    "    Support by National Science Foundation\"\"\"\n",
    "\n",
    "# QuantumNumerov:        Quantum BS via Numerov ODE solver + search\n",
    "\n",
    "# This assumes hbar = 1, m = 1, \n",
    "\n",
    "psi = np.zeros((2, 1000))\n",
    "psio = np.zeros((2, 1000))\n",
    "\n",
    "dl    = 1e-8                      # very small interval to stop bisection\n",
    "ul    = np.zeros(1501)\n",
    "ur    = np.zeros(1501)\n",
    "k2l   = np.zeros(1501)                        # k**2 left wavefunc\n",
    "k2r   = np.zeros(1501)                        # k**2 right wavefunc  \n",
    "n     = 1501\n",
    "nl    = n\n",
    "nr    = n\n",
    "m     = 5                                           # plot every 5 points\n",
    "imax  = 100 \n",
    "xl0   = -1000;   xr0   =  1000                    # leftmost, rightmost x  \n",
    "h     = 1.0*(xr0-xl0)/(n-1.)            \n",
    "amin  = -0.01; amax  = -0.00085                            # root limits\n",
    "e     = amin                                            # Initial E guess\n",
    "de    = 0.01\n",
    "ul[0] = 0.0; ul[1] = 0.00001; ur[0] = 0.0; ur[1] = 0.00001     \n",
    "im = 500                                                    # match point\n",
    "istep=0\n",
    "\n",
    "def V(x):                                                   # Square well\n",
    "    if (abs(x)<=500):\n",
    "        v = -0.001                            \n",
    "    else:\n",
    "        v = 0\n",
    "    return v\n",
    "\n",
    "def setk2():                                                       #  k2  \n",
    "    for i in range(0,n):         \n",
    "       xl = xl0+i*h\n",
    "       xr = xr0-i*h\n",
    "       k2l[i] = e-V(xl)\n",
    "       k2r[i] = e-V(xr)\n",
    "\n",
    "def numerov (n,h,k2,u):                             # Numerov algorithm  \n",
    "    b=(h**2)/12.0                          \n",
    "    for i in range(1, n-1):  \n",
    "      u[i+1] = (2*u[i]*(1-5*b*k2[i])-(1.+b*k2[i-1])*u[i-1])/(1+b*k2[i+1])\n",
    "\n",
    "setk2()\n",
    "numerov (nl, h, k2l, ul)                                       # Left psi\n",
    "numerov (nr, h, k2r, ur)                                      # Right psi\n",
    "fact= ur[nr-2]/ul[im]                                             # Scale\n",
    "for i  in range (0,nl): ul[i] = fact*ul[i]\n",
    "f0 = (ur[nr-1]+ul[nl-1]-ur[nr-3]-ul[nl-3])/(2*h*ur[nr-2])    #  Log deriv\n",
    "\n",
    "def normalize():    \n",
    "    asum = 0\n",
    "    for i in range( 0,n):                     \n",
    "        if i > im :\n",
    "            ul[i] = ur[n-i-1]\n",
    "            asum = asum+ul[i]*ul[i]\n",
    "    asum        = np.sqrt(h*asum); \n",
    "    j=0\n",
    "    for i in range(0,n,m):                   \n",
    "        xl        = xl0 + i*h\n",
    "        ul[i]     = ul[i]/asum                 # wave function normalized\n",
    "        psi[0][j]  = xl                                   # plot psi\n",
    "        psi[1][j]  = 10000.0*ul[i]       # vertical line for match of wvfs\n",
    "        psio[0][j] = xl                                     # plot psi\n",
    "        psio[1][j] = 1.0e5*ul[i]**2\n",
    "        j +=1\n",
    "        \n",
    "while abs(de) > dl and istep < imax :               # bisection algorithm\n",
    "    e1 = e                                                  \n",
    "    e  = (amin+amax)/2                                     \n",
    "    for i in range(0,n):  \n",
    "        k2l[i] = k2l[i] + e-e1             \n",
    "        k2r[i] = k2r[i] + e-e1\n",
    "        nl = im+2\n",
    "        nr = n-im+1;\n",
    "    numerov (nl,h,k2l,ul)                              # New wavefuntions\n",
    "    numerov (nr,h,k2r,ur)               \n",
    "    fact = ur[nr-2]/ul[im]\n",
    "    print(fact)\n",
    "    for i in range(0,nl):  ul[i] = fact*ul[i] \n",
    "    f1 = (ur[nr-1]+ul[nl-1]-ur[nr-3]-ul[nl-3])/(2*h*ur[nr-2]) # Log deriv\n",
    "    if f0*f1 < 0:                               # Bisection localize root\n",
    "        amax = e\n",
    "        de = amax - amin\n",
    "    else:\n",
    "         amin = e\n",
    "         de = amax - amin\n",
    "         f0 = f1\n",
    "    normalize()     \n",
    "    istep = istep + 1\n",
    "\n",
    "plt.figure()\n",
    "plt.plot(psi[0], psi[1], label='psi')\n",
    "plt.plot(psio[0], psio[1], label='psio')\n",
    "plt.legend()\n",
    "plt.grid()\n",
    "plt.show()\n",
    "print(psi)\n",
    "print(k2l)"
   ]
  }
 ],
 "metadata": {
  "kernelspec": {
   "display_name": "Python 3 (ipykernel)",
   "language": "python",
   "name": "python3"
  },
  "language_info": {
   "codemirror_mode": {
    "name": "ipython",
    "version": 3
   },
   "file_extension": ".py",
   "mimetype": "text/x-python",
   "name": "python",
   "nbconvert_exporter": "python",
   "pygments_lexer": "ipython3",
   "version": "3.9.7"
  }
 },
 "nbformat": 4,
 "nbformat_minor": 5
}
