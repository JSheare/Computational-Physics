{
 "cells": [
  {
   "cell_type": "markdown",
   "id": "a3b2e6f8",
   "metadata": {},
   "source": [
    "# **Jacob Shearer - Excercise set 1**"
   ]
  },
  {
   "cell_type": "code",
   "execution_count": 1,
   "id": "f1cb9bf6",
   "metadata": {},
   "outputs": [],
   "source": [
    "import numpy as np\n",
    "import scipy as sp\n",
    "import matplotlib.pyplot as plt"
   ]
  },
  {
   "cell_type": "markdown",
   "id": "68deb0bc",
   "metadata": {},
   "source": [
    "**Question 1:**"
   ]
  },
  {
   "cell_type": "code",
   "execution_count": 2,
   "id": "a2ab5d20",
   "metadata": {},
   "outputs": [
    {
     "name": "stdout",
     "output_type": "stream",
     "text": [
      "Part a:\n",
      "Hello, World.\n",
      "\n",
      "\n",
      "Part b:\n",
      "1.900000e+10\n",
      "The value of the golden mean is 0.61803399\n"
     ]
    }
   ],
   "source": [
    "# Part (a):\n",
    "print('Part a:')\n",
    "print('Hello, World.')\n",
    "print('\\n')\n",
    "\n",
    "# Part (b):\n",
    "print('Part b:')\n",
    "\n",
    "# i:\n",
    "nineteen_billion = 19000000000\n",
    "print('%e' % nineteen_billion)\n",
    "\n",
    "# ii:\n",
    "golden_mean = (np.sqrt(5) - 1) / 2\n",
    "print(f'The value of the golden mean is {\"%.8f\" % golden_mean}')"
   ]
  },
  {
   "cell_type": "markdown",
   "id": "28a20021",
   "metadata": {},
   "source": [
    "**Question 2:**"
   ]
  },
  {
   "cell_type": "code",
   "execution_count": 3,
   "id": "46e01a6e",
   "metadata": {},
   "outputs": [],
   "source": [
    "def sum(N, direction, precision):\n",
    "    double = True if precision == 'double' else False\n",
    "    sum = 0\n",
    "    n = 1\n",
    "    if direction == \"up\":\n",
    "        for i in range(N):\n",
    "            current_term = 1/n if double else 1/np.float32(n)\n",
    "            sum += current_term\n",
    "            n += 1\n",
    "    else:\n",
    "        n = N\n",
    "        for i in range(N):\n",
    "            current_term = 1/n if double else 1/np.float32(n)\n",
    "            n -= 1\n",
    "            sum += current_term\n",
    "    \n",
    "    return sum\n",
    "\n"
   ]
  },
  {
   "cell_type": "code",
   "execution_count": 4,
   "id": "9079e5a2",
   "metadata": {},
   "outputs": [
    {
     "name": "stdout",
     "output_type": "stream",
     "text": [
      "Part (a):\n",
      "s_up: 3.597739657143682\n",
      "s_down: 3.597739657143682\n"
     ]
    }
   ],
   "source": [
    "# Part (a):\n",
    "N = 10\n",
    "print('Part (a):')\n",
    "s_up = sum(20, 'up', 'double')\n",
    "s_down = sum(20, 'down', 'double')\n",
    "print(f\"s_up: {s_up}\")\n",
    "print(f\"s_down: {s_down}\")"
   ]
  },
  {
   "cell_type": "code",
   "execution_count": 5,
   "id": "8709f371",
   "metadata": {},
   "outputs": [
    {
     "name": "stdout",
     "output_type": "stream",
     "text": [
      "Part (b):\n",
      "Difference between s_up and s_down: 0.0\n",
      "The fact that this value is zero indcates that the two agree to at least 15 decimal places.\n",
      "This is quite accurate!\n"
     ]
    }
   ],
   "source": [
    "# Part (b):\n",
    "print('Part (b):')\n",
    "print(f'Difference between s_up and s_down: {np.abs(s_up-s_down)}')\n",
    "print('The fact that this value is zero indcates that the two agree to at least 15 decimal places.')\n",
    "print('This is quite accurate!')"
   ]
  },
  {
   "cell_type": "code",
   "execution_count": 6,
   "id": "f879bef3",
   "metadata": {},
   "outputs": [
    {
     "name": "stdout",
     "output_type": "stream",
     "text": [
      "Part (c):\n",
      "For 10 to the power of 2:\n",
      "Sum with double precision: 5.187377517639621\n",
      "s_up with single precision: 5.187377517639621\n",
      "s_down with single precision: 5.1873775176396215\n",
      "\n",
      "\n",
      "For 10 to the power of 3:\n",
      "Sum with double precision: 7.485470860550343\n",
      "s_up with single precision: 7.485470860550343\n",
      "s_down with single precision: 7.485470860550341\n",
      "\n",
      "\n",
      "For 10 to the power of 4:\n",
      "Sum with double precision: 9.787606036044348\n",
      "s_up with single precision: 9.787606036044348\n",
      "s_down with single precision: 9.787606036044386\n",
      "\n",
      "\n",
      "For 10 to the power of 5:\n",
      "Sum with double precision: 12.090146129863335\n",
      "s_up with single precision: 12.090146129863335\n",
      "s_down with single precision: 12.090146129863408\n",
      "\n",
      "\n",
      "For 10 to the power of 6:\n",
      "Sum with double precision: 14.392726722864989\n",
      "s_up with single precision: 14.392726722864989\n",
      "s_down with single precision: 14.392726722865772\n",
      "\n",
      "\n",
      "For 10 to the power of 7:\n",
      "Sum with double precision: 16.695311365857272\n",
      "s_up with single precision: 16.695311365857272\n",
      "s_down with single precision: 16.695311365859965\n",
      "\n",
      "\n"
     ]
    }
   ],
   "source": [
    "# Part (c):\n",
    "print('Part (c):')\n",
    "exponents = [2 ,3 , 4, 5, 6, 7]\n",
    "s_up_differences = np.array([])\n",
    "s_down_differences = np.array([])\n",
    "for p in exponents:\n",
    "    print(f'For {N} to the power of {p}:')\n",
    "    s_up_double = sum(N ** p, 'up', 'double')\n",
    "    print(f'Sum with double precision: {s_up_double}')\n",
    "    s_up_single = sum(N ** p, 'up', 'single')\n",
    "    s_down_single = sum(N ** p, 'down', 'single')\n",
    "    print(f's_up with single precision: {s_up_single}')\n",
    "    print(f's_down with single precision: {s_down_single}')\n",
    "    s_up_differences = np.append(s_up_differences, np.abs(s_up_double - s_up_single))\n",
    "    s_down_differences = np.append(s_down_differences, np.abs(s_up_double - s_down_single))\n",
    "    print('\\n')\n"
   ]
  },
  {
   "cell_type": "code",
   "execution_count": 13,
   "id": "70ffa09c",
   "metadata": {},
   "outputs": [
    {
     "name": "stdout",
     "output_type": "stream",
     "text": [
      "Part (d):\n",
      "Difference between s_up and s_down (single) when p = 2\n",
      "-8.881784197001252e-16\n",
      "\n",
      "\n",
      "Difference between s_up and s_down (single) when p = 3\n",
      "-2.6645352591003757e-15\n",
      "\n",
      "\n",
      "Difference between s_up and s_down (single) when p = 4\n",
      "-3.730349362740526e-14\n",
      "\n",
      "\n",
      "Difference between s_up and s_down (single) when p = 5\n",
      "-7.283063041541027e-14\n",
      "\n",
      "\n",
      "Difference between s_up and s_down (single) when p = 6\n",
      "-7.833733661755105e-13\n",
      "\n",
      "\n",
      "Difference between s_up and s_down (single) when p = 7\n",
      "-2.6929569685307797e-12\n",
      "\n",
      "\n"
     ]
    }
   ],
   "source": [
    "# Part (d):\n",
    "print('Part (d):')\n",
    "p = 2\n",
    "for difference in (s_up_differences - s_down_differences):\n",
    "    print(f'Difference between s_up and s_down (single) when p = {p}')\n",
    "    print(difference)\n",
    "    print('\\n')\n",
    "    p += 1\n",
    "\n",
    "# I'd rather wait to do this more until I read the relevant part of the textbook"
   ]
  }
 ],
 "metadata": {
  "kernelspec": {
   "display_name": "Python 3 (ipykernel)",
   "language": "python",
   "name": "python3"
  },
  "language_info": {
   "codemirror_mode": {
    "name": "ipython",
    "version": 3
   },
   "file_extension": ".py",
   "mimetype": "text/x-python",
   "name": "python",
   "nbconvert_exporter": "python",
   "pygments_lexer": "ipython3",
   "version": "3.9.7"
  }
 },
 "nbformat": 4,
 "nbformat_minor": 5
}
