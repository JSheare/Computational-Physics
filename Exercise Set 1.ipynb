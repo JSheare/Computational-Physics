{
 "cells": [
  {
   "cell_type": "markdown",
   "id": "a3b2e6f8",
   "metadata": {},
   "source": [
    "# **Jacob Shearer - Excercise set 1**"
   ]
  },
  {
   "cell_type": "code",
   "execution_count": 1,
   "id": "f1cb9bf6",
   "metadata": {},
   "outputs": [],
   "source": [
    "import numpy as np\n",
    "import scipy as sp\n",
    "import matplotlib.pyplot as plt\n"
   ]
  },
  {
   "cell_type": "markdown",
   "id": "68deb0bc",
   "metadata": {},
   "source": [
    "**Question 1:**"
   ]
  },
  {
   "cell_type": "code",
   "execution_count": 2,
   "id": "a2ab5d20",
   "metadata": {},
   "outputs": [
    {
     "name": "stdout",
     "output_type": "stream",
     "text": [
      "Part a:\n",
      "Hello, World.\n",
      "\n",
      "\n",
      "Part b:\n",
      "1.900000e+10\n",
      "The value of the golden mean is 0.61803399\n"
     ]
    }
   ],
   "source": [
    "# Part (a):\n",
    "print('Part a:')\n",
    "print('Hello, World.')\n",
    "print('\\n')\n",
    "\n",
    "# Part (b):\n",
    "print('Part b:')\n",
    "\n",
    "# i:\n",
    "nineteen_billion = 19000000000\n",
    "print('%e' % nineteen_billion)\n",
    "\n",
    "# ii:\n",
    "golden_mean = (np.sqrt(5) - 1) / 2\n",
    "print(f'The value of the golden mean is {\"%.8f\" % golden_mean}')\n"
   ]
  },
  {
   "cell_type": "markdown",
   "id": "28a20021",
   "metadata": {},
   "source": [
    "**Question 2:**"
   ]
  },
  {
   "cell_type": "code",
   "execution_count": 3,
   "id": "46e01a6e",
   "metadata": {},
   "outputs": [],
   "source": [
    "def sum(N, direction, precision):\n",
    "    double = True if precision == 'double' else False\n",
    "    sum = np.float32(0)\n",
    "    n = 1\n",
    "    if direction == \"up\":\n",
    "        for i in range(N):\n",
    "            current_term = np.float64(1/n) if double else np.float32(1/n)\n",
    "            sum += np.float64(current_term) if double else np.float32(current_term)\n",
    "            n += 1\n",
    "    else:\n",
    "        n = N\n",
    "        for i in range(N):\n",
    "            current_term = np.float64(1/n) if double else np.float32(1/n)\n",
    "            sum += np.float64(current_term) if double else np.float32(current_term)\n",
    "            n -= 1\n",
    "    \n",
    "    return sum\n"
   ]
  },
  {
   "cell_type": "code",
   "execution_count": 4,
   "id": "9079e5a2",
   "metadata": {},
   "outputs": [
    {
     "name": "stdout",
     "output_type": "stream",
     "text": [
      "Part (a):\n",
      "s_up: 3.597739657143682\n",
      "s_down: 3.597739657143682\n"
     ]
    }
   ],
   "source": [
    "# Part (a):\n",
    "N = 10\n",
    "print('Part (a):')\n",
    "s_up = sum(20, 'up', 'double')\n",
    "s_down = sum(20, 'down', 'double')\n",
    "print(f\"s_up: {s_up}\")\n",
    "print(f\"s_down: {s_down}\")\n"
   ]
  },
  {
   "cell_type": "code",
   "execution_count": 5,
   "id": "8709f371",
   "metadata": {},
   "outputs": [
    {
     "name": "stdout",
     "output_type": "stream",
     "text": [
      "Part (b):\n",
      "Difference between s_up and s_down: 0.0\n",
      "The fact that this value is zero indcates that the two agree to at least 15 decimal places.\n",
      "This is quite accurate!\n"
     ]
    }
   ],
   "source": [
    "# Part (b):\n",
    "print('Part (b):')\n",
    "print(f'Difference between s_up and s_down: {np.abs(s_up-s_down)}')\n",
    "print('The fact that this value is zero indcates that the two agree to at least 15 decimal places.')\n",
    "print('This is quite accurate!')\n"
   ]
  },
  {
   "cell_type": "code",
   "execution_count": 6,
   "id": "f879bef3",
   "metadata": {
    "scrolled": false
   },
   "outputs": [
    {
     "name": "stdout",
     "output_type": "stream",
     "text": [
      "Part (c):\n",
      "For 10 to the power of 2:\n",
      "Sum with double precision: 5.187377517639621\n",
      "s_up with single precision: 5.187378\n",
      "s_down with single precision: 5.187377\n",
      "\n",
      "\n",
      "For 10 to the power of 3:\n",
      "Sum with double precision: 7.485470860550343\n",
      "s_up with single precision: 7.4854784\n",
      "s_down with single precision: 7.4854717\n",
      "\n",
      "\n",
      "For 10 to the power of 4:\n",
      "Sum with double precision: 9.787606036044348\n",
      "s_up with single precision: 9.787613\n",
      "s_down with single precision: 9.787604\n",
      "\n",
      "\n",
      "For 10 to the power of 5:\n",
      "Sum with double precision: 12.090146129863335\n",
      "s_up with single precision: 12.090851\n",
      "s_down with single precision: 12.090153\n",
      "\n",
      "\n",
      "For 10 to the power of 6:\n",
      "Sum with double precision: 14.392726722864989\n",
      "s_up with single precision: 14.357358\n",
      "s_down with single precision: 14.392652\n",
      "\n",
      "\n",
      "For 10 to the power of 7:\n",
      "Sum with double precision: 16.695311365857272\n",
      "s_up with single precision: 15.403683\n",
      "s_down with single precision: 16.686031\n",
      "\n",
      "\n"
     ]
    }
   ],
   "source": [
    "# Part (c):\n",
    "print('Part (c):')\n",
    "exponents = [2 ,3 , 4, 5, 6, 7]\n",
    "s_up_differences = np.array([])\n",
    "s_down_differences = np.array([])\n",
    "for p in exponents:\n",
    "    print(f'For {N} to the power of {p}:')\n",
    "    \n",
    "    s_up_double = sum(N ** p, 'up', 'double')\n",
    "    print(f'Sum with double precision: {s_up_double}')\n",
    "    \n",
    "    s_up_single = sum(N ** p, 'up', 'single')\n",
    "    s_down_single = sum(N ** p, 'down', 'single')\n",
    "    print('s_up with single precision: ' + str(s_up_single))\n",
    "    print('s_down with single precision: ' + str(s_down_single))\n",
    "    \n",
    "    s_up_differences = np.append(s_up_differences, np.abs(np.float32(s_up_double) - s_up_single))\n",
    "    s_down_differences = np.append(s_down_differences, np.abs(np.float32(s_up_double) - s_down_single))\n",
    "    \n",
    "    print('\\n')\n"
   ]
  },
  {
   "cell_type": "code",
   "execution_count": 7,
   "id": "70ffa09c",
   "metadata": {
    "scrolled": true
   },
   "outputs": [
    {
     "name": "stdout",
     "output_type": "stream",
     "text": [
      "Part (d):\n",
      "Difference between s_up and s_down (single) when p = 2\n",
      "0.0\n",
      "\n",
      "\n",
      "Difference between s_up and s_down (single) when p = 3\n",
      "6.67572021484375e-06\n",
      "\n",
      "\n",
      "Difference between s_up and s_down (single) when p = 4\n",
      "4.76837158203125e-06\n",
      "\n",
      "\n",
      "Difference between s_up and s_down (single) when p = 5\n",
      "0.000698089599609375\n",
      "\n",
      "\n",
      "Difference between s_up and s_down (single) when p = 6\n",
      "0.0352935791015625\n",
      "\n",
      "\n",
      "Difference between s_up and s_down (single) when p = 7\n",
      "1.2823486328125\n",
      "\n",
      "\n",
      "The fact that all of these values are positive indicates that the difference between s_up_single and s_double \n",
      "is always greater than the difference between s_down_single and s_double. This means that s_up_single is less\n",
      "accurate than s_down_single.\n"
     ]
    },
    {
     "data": {
      "image/png": "[encoded data removed]",
      "text/plain": [
       "<Figure size 432x288 with 1 Axes>"
      ]
     },
     "metadata": {
      "needs_background": "light"
     },
     "output_type": "display_data"
    },
    {
     "name": "stdout",
     "output_type": "stream",
     "text": [
      "This graph has a positive slope, which indicates that the accuracy of s_up_single decreases with increasing N.\n"
     ]
    }
   ],
   "source": [
    "# Part (d):\n",
    "print('Part (d):')\n",
    "p = 2\n",
    "for difference in (s_up_differences - s_down_differences):\n",
    "    print(f'Difference between s_up and s_down (single) when p = {p}')\n",
    "    print(difference)\n",
    "    print('\\n')\n",
    "    p += 1\n",
    "\n",
    "print('''The fact that all of these values are positive indicates that the difference between s_up_single and s_double \n",
    "is always greater than the difference between s_down_single and s_double. This means that s_up_single is less\n",
    "accurate than s_down_single.''')\n",
    "\n",
    "plt.plot(np.array(exponents), s_up_differences)\n",
    "plt.xlabel('p')\n",
    "plt.ylabel('inaccuracy')\n",
    "plt.show()\n",
    "print('This graph has a positive slope, which indicates that the accuracy of s_up_single decreases with increasing N.')\n"
   ]
  },
  {
   "cell_type": "markdown",
   "id": "ac31193c",
   "metadata": {},
   "source": [
    "Part (e):\n",
    "Floating point numbers are stored essentially in parts, with the first part (called the mantissa) corresponding to the magnitude of the number and the second part being the exponent. In order for two floating point numbers of different exponents to be added, the computer will increase the exponent of the smaller number while shifting its mantissa to the right one decimal place and adding a zero to the front. When this shift happens, the rightmost digit in the mantissa no longer has anywhere to be stored, so it is lost, which leads to a decrease in precision.\n",
    "\n",
    "In the S<sup>up</sup> version of the algorithm, the sum quickly becomes large compared to later terms, which means that the mantissa of each successive term must be shifted more and more, which in turn truncates more and more precision. \n",
    "\n",
    "In the S<sup>down</sup> version of the algorithm, the exponent of the sum at any given point remains much closer to the newest term, which means that the mantissa of each successive term doesn't need to be shifted as much as with S<sup>up</sup> and thus less precision is lost."
   ]
  },
  {
   "cell_type": "markdown",
   "id": "f9518c41",
   "metadata": {},
   "source": [
    "**Question 3:**"
   ]
  },
  {
   "cell_type": "code",
   "execution_count": null,
   "id": "7d34a9aa",
   "metadata": {},
   "outputs": [],
   "source": []
  }
 ],
 "metadata": {
  "kernelspec": {
   "display_name": "Python 3 (ipykernel)",
   "language": "python",
   "name": "python3"
  },
  "language_info": {
   "codemirror_mode": {
    "name": "ipython",
    "version": 3
   },
   "file_extension": ".py",
   "mimetype": "text/x-python",
   "name": "python",
   "nbconvert_exporter": "python",
   "pygments_lexer": "ipython3",
   "version": "3.9.7"
  }
 },
 "nbformat": 4,
 "nbformat_minor": 5
}
